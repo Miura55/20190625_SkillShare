{
 "cells": [
  {
   "cell_type": "markdown",
   "metadata": {
    "collapsed": true
   },
   "source": [
    "# Code for AICHI スキルシェア「勝手にワトソンカフェ」\n",
    "今回はこれまでに取り上げてきたWatson APIをjupyter notebook上で動かすことをやっていきます。jupyter notebookはpythonのコマンドをまとまりごとに動かすことができ、さらに動作過程を確認して、プログラムの加筆、修正が出来ることから主にデータサイエンティストが使用しています。Watson Studioではこのjupyter notebookの環境を簡単に構築することができます。なお、この資料もjuypter notebookを使用していますのでこの資料をWatson Studio以外のjupyter notebookが動作する環境で実行していただくことも可能です。"
   ]
  },
  {
   "cell_type": "markdown",
   "metadata": {},
   "source": [
    "## 0. 基本操作\n",
    "今回のハンズオンのプログラムは```Shift```+```Enter```で上から順番に実行出来るようになっています。"
   ]
  },
  {
   "cell_type": "markdown",
   "metadata": {},
   "source": [
    "## 1. Language Translator（翻訳）\n",
    "このサービスは翻訳対象のテキストの言語を自動判別し、ユースケースに適した翻訳モデルによって翻訳が可能です。まずはリソースの作成から、Language Translatorサービスを作成しましょう。その後、Manage or 管理タブをクリックし、API資格情報を確認し、下記に記入します。"
   ]
  },
  {
   "cell_type": "code",
   "execution_count": null,
   "metadata": {},
   "outputs": [],
   "source": [
    "API_KEY='YOUR_API_KEY'\n",
    "API_URL='YOUR_API_URL'\n"
   ]
  },
  {
   "cell_type": "markdown",
   "metadata": {},
   "source": [
    "次に下記のセルを実行し、Watson APIのpython SDKをダウンロードします。(「tensorflow 1.3.0 requires tensorflow-tensorboard<0.2.0,>=0.1.0, which is not installed.」と出ることがありますが、今回は使用しないので無視してください。)"
   ]
  },
  {
   "cell_type": "code",
   "execution_count": null,
   "metadata": {},
   "outputs": [],
   "source": [
    "!pip install --upgrade \"ibm-watson>=3.0.3\""
   ]
  },
  {
   "cell_type": "markdown",
   "metadata": {},
   "source": [
    "下記のセルを実行し実際にAPIを呼び出します。versionの項目は特に指定がなければ、 https://cloud.ibm.com/apidocs/language-translator?code=python#versioning を確認し、最新バージョンを指定しましょう。（2019年6月現在は```2018-05-01```が最新バージョンです）"
   ]
  },
  {
   "cell_type": "code",
   "execution_count": null,
   "metadata": {},
   "outputs": [],
   "source": [
    "from ibm_watson import LanguageTranslatorV3\n",
    "\n",
    "language_translator = LanguageTranslatorV3(\n",
    "    version='2018-05-01',\n",
    "    iam_apikey=API_KEY,\n",
    "    url=API_URL\n",
    ")"
   ]
  },
  {
   "cell_type": "markdown",
   "metadata": {},
   "source": [
    "ここまでで準備が完了しました。それでは、実際に簡単な文章を翻訳していきましょう。使っていく上で気をつけるポイントは以下の2つです。\n",
    "\n",
    "- 英語→その他の言語、その他の言語→英語にのみ対応（その数21言語）\n",
    "- 英語以外の言語同士の翻訳をしたいtときには一度英訳してから翻訳したい言語に翻訳をかける\n",
    "\n",
    "使用できる翻訳モデルは[こちらのリンク](https://cloud.ibm.com/docs/services/language-translator?topic=language-translator-translation-models&locale=en)を参照します。それでは下記のセルを実行し日本語から英語に翻訳してみましょう。（```text```には好きな文章を入れても大丈夫です。）"
   ]
  },
  {
   "cell_type": "code",
   "execution_count": null,
   "metadata": {},
   "outputs": [],
   "source": [
    "text = \"こんにちは。岡崎市は徳川家康で有名な愛知県の都市です。\"\n",
    "model = \"ja-en\"\n",
    "\n",
    "import json\n",
    "\n",
    "translation = language_translator.translate(\n",
    "    text=text,\n",
    "    model_id=model).get_result()\n",
    "print(json.dumps(translation, indent=2, ensure_ascii=False))"
   ]
  },
  {
   "cell_type": "markdown",
   "metadata": {},
   "source": [
    "今度は今の文がどんな言語かをWatsonに判定してもらいます。62言語の判定が可能です。[こちらのリンク](https://cloud.ibm.com/docs/services/language-translator?topic=language-translator-identifiable-languages&locale=en#identifiable-languages)に判定できる62言語が紹介されています。それでは、上記のセルで定義した```text```の言語を下記のセルを実行して判定してもらいましょう。"
   ]
  },
  {
   "cell_type": "code",
   "execution_count": null,
   "metadata": {},
   "outputs": [],
   "source": [
    "lg_hantei = language_translator.identify(\n",
    "    text).get_result()\n",
    "print(json.dumps(lg_hantei, indent=2))"
   ]
  },
  {
   "cell_type": "markdown",
   "metadata": {},
   "source": [
    "## 2. 課題\n",
    "それでは、最後に先程の文章を中国語に翻訳していきましょう。先程も述べたように、日本語から中国語に翻訳したいときには一度英語に翻訳する必要があります。今回はそのまま英訳された文を使っていきます。下記のセルでは先程英訳した結果をjsonから取り出しています。"
   ]
  },
  {
   "cell_type": "code",
   "execution_count": null,
   "metadata": {},
   "outputs": [],
   "source": [
    "en_text = translation[\"translations\"][0][\"translation\"]\n",
    "print(en_text)"
   ]
  },
  {
   "cell_type": "markdown",
   "metadata": {},
   "source": [
    "では、この続きを下記のセルに入力して、中国語に翻訳してください。セルをクリックするとプログラムを書くことができます。```model_id```は[こちら](https://cloud.ibm.com/docs/services/language-translator?topic=language-translator-translation-models&locale=en)から確認し、中国語のモデルを探しましょう。"
   ]
  },
  {
   "cell_type": "code",
   "execution_count": null,
   "metadata": {},
   "outputs": [],
   "source": [
    "# ここに続きを入力"
   ]
  },
  {
   "cell_type": "markdown",
   "metadata": {},
   "source": [
    "最後に画面右上の```File```から```Save```してこのサンプルは終了です。"
   ]
  }
 ],
 "metadata": {
  "kernelspec": {
   "display_name": "Python 3.5",
   "language": "python",
   "name": "python3"
  },
  "language_info": {
   "codemirror_mode": {
    "name": "ipython",
    "version": 3
   },
   "file_extension": ".py",
   "mimetype": "text/x-python",
   "name": "python",
   "nbconvert_exporter": "python",
   "pygments_lexer": "ipython3",
   "version": "3.5.5"
  }
 },
 "nbformat": 4,
 "nbformat_minor": 1
}
