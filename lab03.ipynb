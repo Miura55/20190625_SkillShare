{
    "nbformat_minor": 1, 
    "cells": [
        {
            "source": "# Code for AICHI\u30b9\u30ad\u30eb\u30b7\u30a7\u30a2\uff08jupyter-notebook\u3092\u4f7f\u3063\u3066\u307f\u308b\u7de8\uff09\n\u4eca\u307e\u3067\u52d5\u304b\u3057\u3066\u304d\u305f\u30b5\u30f3\u30d7\u30eb\u304b\u3089\u3001Watson Studio\u306fWatson API\u3092\u52d5\u304b\u3059\u305f\u3081\u306e\u30c4\u30fc\u30eb\u3060\u3068\u3044\u3046\u3053\u3068\u304c\u304a\u5206\u304b\u308a\u3044\u305f\u3060\u3051\u305f\u304b\u3068\u601d\u3044\u307e\u3059\u3002\u3067\u3059\u304c\u3001Watson Studio\u306eNotebook\u306fjupyer-notebook\u3068\u3057\u3066\u4f7f\u7528\u3059\u308b\u3053\u3068\u304c\u3067\u304d\u307e\u3059\u3002jupyter-notebook\u306f\u4ed6\u306e\u30d7\u30ed\u30b0\u30e9\u30df\u30f3\u30b0\u30c4\u30fc\u30eb\u3068\u9055\u3044\u3001\u4ee5\u4e0b\u306e\u7279\u5fb4\u304c\u3042\u308a\u307e\u3059\u3002\n\n- \u3042\u3068\u304b\u3089\u5b9f\u884c\u7d50\u679c\u304c\u78ba\u8a8d\u3067\u304d\u308b\n- \u5b9f\u884c\u624b\u9806\u3092\u78ba\u8a8d\u3067\u304d\u308b\uff08\u30bb\u30eb\u306e\u5de6\u7aef\u306b\u6570\u5b57\u304c\u8868\u793a\u3055\u308c\u308b\uff09\n- markdown\u3067\u30e1\u30e2\u3092\u6b8b\u305b\u308b\u306e\u3067\u3001\u624b\u9806\u3092\u8aad\u307f\u306a\u304c\u3089\u30d7\u30ed\u30b0\u30e9\u30e0\u3092\u5b9f\u884c\u3057\u3066\u52d5\u4f5c\u78ba\u8a8d\u51fa\u6765\u308b\u3002\uff08\u4eca\u56de\u306e\u8cc7\u6599\u3082\u305d\u3046\u3067\u3059\uff09\n\njupyter-notebook\u306f\u4ee5\u4e0a\u306e\u7279\u5fb4\u304c\u3042\u308b\u3053\u3068\u304b\u3089\u7814\u7a76\u3067\u30c7\u30fc\u30bf\u89e3\u6790\u3092\u3059\u308b\u969b\u306b\u3088\u304f\u4f7f\u308f\u308c\u307e\u3059\u3002\u3068\u3044\u3046\u308f\u3051\u3067\u3053\u3053\u3067\u306f\u5b9f\u969b\u306bjupyter-notebook\u3092\u4f7f\u3063\u3066\u3061\u3087\u3063\u3068\u3057\u305f\u30c7\u30fc\u30bf\u3092\u53d6\u308a\u6271\u3046\u3053\u3068\u3092\u3084\u3063\u3066\u3044\u304d\u307e\u3059\u3002\u4eca\u56de\u306f\u4ee5\u524dC4A\u3067\u7d39\u4ecb\u3055\u308c\u305fRESAS API\u3092\u4f7f\u3063\u3066\u30c7\u30fc\u30bf\u3092\u53d6\u308a\u8fbc\u3093\u3067\u3042\u308c\u3053\u308c\u3044\u3058\u3063\u3066\u3044\u304d\u305f\u3044\u3068\u601d\u3044\u307e\u3059\u3002", 
            "cell_type": "markdown", 
            "metadata": {
                "collapsed": true
            }
        }, 
        {
            "source": "## RESAS API\u30ad\u30fc\u306e\u767b\u9332\nRESAS API\u3092\u4f7f\u3046\u305f\u3081\u306b\u306fAPI\u306e\u5229\u7528\u8005\u767b\u9332\u3092\u3057\u307e\u3059\u3002\u672a\u767b\u9332\u306e\u65b9\u306f[\u3053\u3061\u3089](https://opendata.resas-portal.go.jp/form.html)\u304b\u3089\u5229\u7528\u8005\u767b\u9332\u3092\u884c\u3063\u3066\u304f\u3060\u3055\u3044\u3002\u767b\u9332\u3092\u884c\u3063\u305f\u3089\u3001[\u30de\u30a4\u30da\u30fc\u30b8](https://opendata.resas-portal.go.jp/mypage.html)\u304b\u3089API\u30ad\u30fc\u3092\u30b3\u30d4\u30fc\u3057\u3066\u3001\u4e0b\u306e\u30bb\u30eb\u306b\u8cbc\u308a\u4ed8\u3051\u3066\u5b9f\u884c\u3057\u3066\u304f\u3060\u3055\u3044\u3002", 
            "cell_type": "markdown", 
            "metadata": {}
        }, 
        {
            "execution_count": null, 
            "cell_type": "code", 
            "metadata": {}, 
            "outputs": [], 
            "source": "API_KEY = \"YOUR_API_KEY\""
        }, 
        {
            "source": "## \u90fd\u9053\u5e9c\u770c\u3068\u5e02\u533a\u753a\u6751\u30b3\u30fc\u30c9\u306e\u4e00\u89a7\nRESAS\u306e\u30c7\u30fc\u30bf\u3092\u30a4\u30f3\u30dd\u30fc\u30c8\u3059\u308b\u306b\u306f\u90fd\u9053\u5e9c\u770c\u3068\u5e02\u533a\u753a\u6751\u30b3\u30fc\u30c9\u304c\u5fc5\u8981\u3067\u3059\u3002\u3068\u3044\u3046\u308f\u3051\u3067\u307e\u305a\u306f\u90fd\u9053\u5e9c\u770c\u30b3\u30fc\u30c9\u3092\u53d6\u5f97\u3057\u3066\u3044\u304d\u307e\u3059\u3002\u4e0b\u306e\u30bb\u30eb\u3092\u5b9f\u884c\u3057\u3066\u304f\u3060\u3055\u3044\u3002", 
            "cell_type": "markdown", 
            "metadata": {}
        }, 
        {
            "execution_count": null, 
            "cell_type": "code", 
            "metadata": {}, 
            "outputs": [], 
            "source": "import json\nimport urllib.request\nimport pprint\nimport pandas as pd\n\napi_key = {\"X-API-KEY\":API_KEY}\nurl = 'https://opendata.resas-portal.go.jp/api/v1/prefectures'\n\nreq = urllib.request.Request(url, headers=api_key)\nwith urllib.request.urlopen(req) as response:\n    data = response.read()\n\nd = json.loads(data.decode())\ndf = pd.io.json.json_normalize(d['result'])\ndisplay(df)"
        }, 
        {
            "source": "\u3053\u308c\u3067\u90fd\u9053\u5e9c\u770c\u306e\u4e00\u89a7\u3092\u53d6\u5f97\u3067\u304d\u305f\u3068\u601d\u3044\u307e\u3059\u3002\u3067\u306f\u3053\u306e\u306a\u304b\u304b\u3089\u597d\u304d\u306a\u90fd\u9053\u5e9c\u770c\u3092\u9078\u3073\u3001\u305d\u306e\u5e02\u533a\u753a\u6751\u306e\u4e00\u89a7\u3092\u8868\u793a\u3055\u305b\u307e\u3059\u3002\u90fd\u9053\u5e9c\u770c\u30b3\u30fc\u30c9\u3092\u4ee5\u4e0b\u306e\u30bb\u30eb\u306e```prefCode```\u306e\u96a3\u306e\u5024\u306b\u8a18\u5165\u3057\u3066\u5b9f\u884c\u3057\u307e\u3059\u3002\uff08\u4eca\u56de\u306f\u611b\u77e5\u770c\u306e\u5e02\u533a\u753a\u6751\u306e\u4e00\u89a7\u3092\u51fa\u529b\u3055\u305b\u307e\u3059\uff09", 
            "cell_type": "markdown", 
            "metadata": {}
        }, 
        {
            "execution_count": null, 
            "cell_type": "code", 
            "metadata": {}, 
            "outputs": [], 
            "source": "p = {\"prefCode\":23}\n\nurl_base = 'https://opendata.resas-portal.go.jp/api/v1/cities'\nurl = url_base + \"?\" + urllib.parse.urlencode(p)\n\nreq = urllib.request.Request(url, headers=api_key)\n\nwith urllib.request.urlopen(req) as response:\n    data = response.read()\n\nd = json.loads(data.decode())\n\ndf = pd.io.json.json_normalize(d['result'])\ndisplay(df)"
        }, 
        {
            "source": "## \u4f55\u304b\u30c7\u30fc\u30bf\u3092\u53d6\u308a\u51fa\u3057\u3066\u307f\u308b\n\u5e02\u533a\u753a\u6751\u30b3\u30fc\u30c9\u304c\u308f\u304b\u3063\u305f\u3068\u3053\u308d\u3067\u4e00\u4eba\u3042\u305f\u308a\u306e\u5730\u65b9\u7a0e\u3092\u53d6\u5f97\u3057\u3066\u3044\u304d\u307e\u3059\u3002\u4e0b\u8a18\u306e\u30bb\u30eb\u3092\u5b9f\u884c\u3057\u307e\u3059\u3002(\u4eca\u56de\u306f\u5ca1\u5d0e\u5e02\u3067\u898b\u3066\u3044\u304d\u307e\u3059)", 
            "cell_type": "markdown", 
            "metadata": {}
        }, 
        {
            "execution_count": null, 
            "cell_type": "code", 
            "metadata": {}, 
            "outputs": [], 
            "source": "url_base = 'https://opendata.resas-portal.go.jp/api/v1/municipality/taxes/perYear'\n\np = {'prefCode': 23, 'cityCode': 23202}\nurl = url_base + '?' + urllib.parse.urlencode(p)\n\nreq = urllib.request.Request(url, headers=api_key)\n\nwith urllib.request.urlopen(req) as response:\n    data = response.read()\n\nd = json.loads(data.decode())\n\ndf = pd.io.json.json_normalize(d['result']['data'])\ndf.columns = [\"tax(*1000)\", \"year\"]  # \u51fa\u529b\u3055\u308c\u308b\u5024\u306b1000\u3092\u304b\u3051\u305f\u5024\u304c\u4e00\u4eba\u3042\u305f\u308a\u306e\u5730\u65b9\u7a0e\u306b\u306a\u308b\u306e\u3067\u3001\u30ab\u30e9\u30e0\u3092\u5909\u3048\u308b\ndisplay(df)"
        }, 
        {
            "source": "\u3053\u308c\u3067\u30c7\u30fc\u30bf\u3092\u6574\u5f62\u3067\u304d\u305f\u306e\u3067\u3001\u4eca\u5ea6\u306f\u3053\u308c\u3092\u30b0\u30e9\u30d5\u306b\u66f8\u304d\u8d77\u3053\u3057\u3066\u307f\u307e\u3059\u3002\u4e0b\u8a18\u306e\u30bb\u30eb\u3092\u5b9f\u884c\u3057\u307e\u3057\u3087\u3046\u3002\uff08\u30a8\u30e9\u30fc\u3082\u306a\u304f\u3001\u4f55\u3082\u8868\u793a\u3055\u308c\u306a\u3044\u6642\u306f\u3082\u3046\u4e00\u56de\u5b9f\u884c\u3057\u3066\u304f\u3060\u3055\u3044\uff09", 
            "cell_type": "markdown", 
            "metadata": {}
        }, 
        {
            "execution_count": null, 
            "cell_type": "code", 
            "metadata": {}, 
            "outputs": [], 
            "source": "df.plot(x='year', y='tax(*1000)', color='red')"
        }, 
        {
            "source": "# \u4eba\u53e3\u30d4\u30e9\u30df\u30c3\u30c9\u3092\u4f5c\u3063\u3066\u307f\u308b\n\u4eca\u5ea6\u306fRESUS API\u3092\u4f7f\u3063\u3066\u4eba\u53e3\u30d4\u30e9\u30df\u30c3\u30c9\u3092\u4f5c\u3063\u3066\u307f\u307e\u3059\u3002\u307e\u305a\u306f\u4ee5\u4e0b\u306e\u30bb\u30eb\u3092\u5b9f\u884c\u3057\u3001\u30c7\u30fc\u30bf\u3092\u30a4\u30f3\u30dd\u30fc\u30c8\u3057\u307e\u3059\u3002\uff08\u4eca\u56de\u306f\u5ca1\u5d0e\u306e\u4eba\u53e3\u30d4\u30e9\u30df\u30c3\u30c9\u3092\u4f5c\u308a\u307e\u3059\uff09", 
            "cell_type": "markdown", 
            "metadata": {}
        }, 
        {
            "execution_count": null, 
            "cell_type": "code", 
            "metadata": {}, 
            "outputs": [], 
            "source": "url_base = 'https://opendata.resas-portal.go.jp/api/v1/population/composition/pyramid'\n\np = {'prefCode': 23, 'cityCode': 23202, 'yearLeft':2010, \"yearRight\":2020}\nurl = url_base + '?' + urllib.parse.urlencode(p)\n\nreq = urllib.request.Request(url, headers=api_key)\n\nwith urllib.request.urlopen(req) as response:\n    data = response.read()\n\nd = json.loads(data.decode())\n\nprint(json.dumps(d, indent=2, ensure_ascii=False))"
        }, 
        {
            "source": "\u5b9f\u884c\u3057\u3066\u307f\u308b\u3068\u5206\u304b\u308a\u307e\u3059\u304c\u30012\u3064\u306e\u5e74\u4ee3\u3092\u6bd4\u8f03\u3067\u304d\u308b\u3088\u3046\u306b\u7d50\u679c\u304c\u8fd4\u3063\u3066\u304d\u307e\u3059\u3002\u4eca\u56de\u306f2010\u5e74\u30682020\u5e74\u306e\u6bd4\u8f03\u3067\u51fa\u3057\u307e\u3059\u3002\u3067\u306f\u305b\u3063\u304b\u304f\u306a\u306e\u3067\u3001\u3053\u306e2\u3064\u306e\u5e74\u306e\u4eba\u53e3\u306e\u9077\u79fb\u3092\u6bd4\u8f03\u3057\u3066\u3044\u304d\u305f\u3044\u3068\u601d\u3044\u307e\u3059\u3002\u305d\u306e\u524d\u306b\u6bd4\u8f03\u3057\u3084\u3059\u304f\u3059\u308b\u305f\u3081\u306b\u8868\u3092\u6a2a\u4e26\u3073\u306b\u3057\u307e\u3059\u3002\u305d\u306e\u305f\u3081\u306b\u4ee5\u4e0b\u306e\u30bb\u30eb\u3092\u5b9f\u884c\u3057\u3001\u95a2\u6570\u3092\u5b9a\u7fa9\u3057\u3066\u3044\u304d\u307e\u3059\u3002", 
            "cell_type": "markdown", 
            "metadata": {}
        }, 
        {
            "execution_count": null, 
            "cell_type": "code", 
            "metadata": {}, 
            "outputs": [], 
            "source": "from IPython.display import display_html\ndef display_side_by_side(*args):\n    html_str=''\n    for df in args:\n        html_str+=df.to_html()\n    display_html(html_str.replace('table','table style=\"display:inline\"'),raw=True)"
        }, 
        {
            "source": "\u305d\u308c\u3067\u306f\u8868\u3092\u51fa\u529b\u3057\u3066\u3044\u304d\u307e\u3057\u3087\u3046\u3002\u4e0b\u8a18\u306e\u30bb\u30eb\u3092\u5b9f\u884c\u3057\u307e\u3059\u3002\uff08\u4eca\u56de\u306f\u5de6\u304c2010\u5e74\u3001\u53f3\u306f2020\u5e74\u306e\u4eba\u53e3\u69cb\u6210\u3068\u3057\u3066\u51fa\u529b\u3057\u307e\u3057\u305f\uff09", 
            "cell_type": "markdown", 
            "metadata": {}
        }, 
        {
            "execution_count": null, 
            "cell_type": "code", 
            "metadata": {}, 
            "outputs": [], 
            "source": "dfL = pd.io.json.json_normalize(d['result']['yearLeft']['data'])\ndfR = pd.io.json.json_normalize(d[\"result\"][\"yearRight\"][\"data\"])\ndisplay_side_by_side(dfL, dfR)"
        }, 
        {
            "source": "\u3053\u308c\u3067\u5fc5\u8981\u306a\u3082\u306e\u304c\u63c3\u3063\u305f\u306e\u3067\u5b9f\u969b\u306b\u30b0\u30e9\u30d5\u3092\u51fa\u529b\u3057\u3066\u3044\u304d\u307e\u3059\u3002\u4e0b\u8a18\u306e\u30bb\u30eb\u3092\u5b9f\u884c\u3057\u307e\u3059\u3002", 
            "cell_type": "markdown", 
            "metadata": {}
        }, 
        {
            "execution_count": null, 
            "cell_type": "code", 
            "metadata": {}, 
            "outputs": [], 
            "source": "import os\nimport numpy as np\nimport matplotlib.pyplot as plt\nfrom matplotlib.font_manager import FontProperties\n\n#\u65e5\u672c\u8a9e\u30d5\u30a9\u30f3\u30c8\u306e\u5c0e\u5165  \njp_font_path ='ipaexg00301/ipaexg.ttf'\n\nif not os.path.exists(jp_font_path):\n    !wget https://oscdl.ipa.go.jp/IPAexfont/ipaexg00301.zip\n    !unzip ipaexg00301.zip\nelse:\n    print('IPA font ha\uff53 been already installed')\n\nfp = FontProperties(fname=jp_font_path, size=10)\n\nman = dfL[\"man\"]\nwoman = dfL[\"woman\"]\n\nfig, ax = plt.subplots(ncols=2, figsize=(8,6))\n\n# \u7537\u6027\u4eba\u53e3\nax[0].barh(dfL[\"class\"], man, color=\"b\", height=0.5, label=\"man\")\nax[0].yaxis.tick_right()\nax[0].set_yticklabels(dfL[\"class\"], FontProperties=fp)\nax[0].set_xlim([20000, 0])\n# \u5973\u6027\u4eba\u53e3\nax[1].barh(dfL[\"class\"], woman, color=\"r\", height=0.5, label=\"woman\")\nax[1].set_yticklabels([])\nax[1].set_xlim([0, 20000])\nax[1].set_xlabel(\"\u4eba\u53e3(\u4eba)\", FontProperties=fp)\n\nfig.legend(loc=\"upper right\")\nplt.suptitle(\"2010\u5e74\u5ea6\", FontProperties=fp)\nplt.show()"
        }, 
        {
            "execution_count": null, 
            "cell_type": "code", 
            "metadata": {}, 
            "outputs": [], 
            "source": "\n"
        }
    ], 
    "metadata": {
        "kernelspec": {
            "display_name": "Python 3.5", 
            "name": "python3", 
            "language": "python"
        }, 
        "language_info": {
            "mimetype": "text/x-python", 
            "nbconvert_exporter": "python", 
            "version": "3.5.5", 
            "name": "python", 
            "file_extension": ".py", 
            "pygments_lexer": "ipython3", 
            "codemirror_mode": {
                "version": 3, 
                "name": "ipython"
            }
        }
    }, 
    "nbformat": 4
}