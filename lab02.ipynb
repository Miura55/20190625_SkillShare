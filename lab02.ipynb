{
    "nbformat_minor": 1, 
    "cells": [
        {
            "source": "# Code for AICHI\u30b9\u30ad\u30eb\u30b7\u30a7\u30a2\uff08Visual Recognition\u7de8\uff09\n\u3053\u306e\u30d1\u30fc\u30c8\u3067\u306f\u753b\u50cf\u8a8d\u8b58\u3092\u884c\u3046\u305f\u3081\u306eAPI\u3067\u3042\u308b\u3001\u300cWatson Visual Recognition\u300d\u3092\u89e6\u3063\u3066\u307f\u307e\u3059\u3002\u3053\u3053\u3067\u306fLanguage Translator\u306e\u30c7\u30e2\u3092\u7d42\u3048\u3066\u308b\u524d\u63d0\u3067\u8a71\u3092\u9032\u3081\u307e\u3059\u3002", 
            "cell_type": "markdown", 
            "metadata": {
                "collapsed": true
            }
        }, 
        {
            "source": "\u307e\u305a\u306f\u3001Visual Recognition\u306e\u30ea\u30bd\u30fc\u30b9\u3092\u4f5c\u6210\u3057\u307e\u3059\u3002\u305d\u306e\u5f8c\u3001\u30b5\u30fc\u30d3\u30b9\u8cc7\u683c\u60c5\u5831\u304b\u3089\u4ee5\u4e0b\u306e\u60c5\u5831\u3092\u5165\u529b\u3057\u307e\u3059\u3002", 
            "cell_type": "markdown", 
            "metadata": {}
        }, 
        {
            "execution_count": null, 
            "cell_type": "code", 
            "metadata": {}, 
            "outputs": [], 
            "source": "API_KEY='YOUR_API_KEY'\nAPI_URL='YOUR_URL'"
        }, 
        {
            "source": "\u6b21\u306b\u4e0b\u8a18\u306e\u30bb\u30eb\u3092\u5b9f\u884c\u3057\u3001Watson API\u306epython SDK\u3092\u30c0\u30a6\u30f3\u30ed\u30fc\u30c9\u3057\u307e\u3059\u3002", 
            "cell_type": "markdown", 
            "metadata": {}
        }, 
        {
            "execution_count": null, 
            "cell_type": "code", 
            "metadata": {
                "scrolled": true
            }, 
            "outputs": [], 
            "source": "!pip install --upgrade \"ibm-watson>=3.0.3\""
        }, 
        {
            "source": "\u4e0b\u8a18\u306e\u30bb\u30eb\u3092\u5b9f\u884c\u3057\u5b9f\u969b\u306bAPI\u3092\u547c\u3073\u51fa\u3057\u307e\u3059\u3002version\u306e\u9805\u76ee\u306f\u7279\u306b\u6307\u5b9a\u304c\u306a\u3051\u308c\u3070\u3001 https://cloud.ibm.com/apidocs/visual-recognition?code=python#versioning \u3092\u78ba\u8a8d\u3057\u3001\u6700\u65b0\u30d0\u30fc\u30b8\u30e7\u30f3\u3092\u6307\u5b9a\u3057\u307e\u3057\u3087\u3046\u3002\uff082019\u5e746\u6708\u73fe\u5728\u306f```2018-03-19```\u304c\u6700\u65b0\u30d0\u30fc\u30b8\u30e7\u30f3\u3067\u3059\uff09", 
            "cell_type": "markdown", 
            "metadata": {}
        }, 
        {
            "execution_count": null, 
            "cell_type": "code", 
            "metadata": {}, 
            "outputs": [], 
            "source": "from ibm_watson import VisualRecognitionV3\n\nvisual_recognition = VisualRecognitionV3(\n    version='2018-03-19',\n    iam_apikey=API_KEY\n)"
        }, 
        {
            "source": "\u3053\u3053\u307e\u3067\u3067\u6e96\u5099\u304c\u3067\u304d\u307e\u3057\u305f\u3002\u3067\u306f\u3001\u6b21\u304b\u3089\u306f\u753b\u50cf\u8a8d\u8b58\u3092\u3084\u3063\u3066\u3044\u304d\u307e\u3059\u3002", 
            "cell_type": "markdown", 
            "metadata": {}
        }, 
        {
            "source": "## 1. \u753b\u50cf\u8a8d\u8b58\uff08\u4e00\u822c\u30e2\u30c7\u30eb\uff09-URL\u3092\u6307\u5b9a\u3059\u308b-\n\u4e8b\u524d\u5b66\u7fd2\u6e08\u307f\u306e\u5206\u985e\u5668\u3092\u4f7f\u3063\u305f\u51fa\u529b\u3057\u307e\u3059\u3002\u4e00\u822c\u30e2\u30c7\u30eb\u3067\u306f\u3001\u6570\u5343\u7a2e\u985e\u306e\u69d8\u3005\u306a\u30af\u30e9\u30b9\u30fb\u30ad\u30fc\u30ef\u30fc\u30c9\u304b\u3089\u8a72\u5f53\u3059\u308b\u3082\u306e\u3092\u8b58\u5225\u3057\u307e\u3059\u3002\u3044\u308f\u3086\u308b\u753b\u50cf\u3078\u306e\u30bf\u30b0\u4ed8\u3051\u3067\u3059\u3002\u30af\u30e9\u30b9\u30fb\u30ad\u30fc\u30ef\u30fc\u30c9\uff08\u30bf\u30b0\uff09\u306f\u3001\u968e\u5c64\u7684\u306b\u30ab\u30c6\u30b4\u30e9\u30a4\u30ba\u3055\u308c\u3066\u3044\u3066\u3001\u6700\u4e0a\u4f4d\u30ab\u30c6\u30b4\u30ea\u30fc\u3068\u3057\u3066\u306f\u3001\u52d5\u7269\u3001 \u4eba\u9593\u304a\u3088\u3073\u500b\u4eba\u3068\u305d\u306e\u30a2\u30af\u30c6\u30a3\u30d3\u30c6\u30a3\u3001\u98df\u54c1\u3001\u690d\u7269\u3001\u30b9\u30dd\u30fc\u30c4\u3001\u81ea\u7136\u3001\u904b\u8f38\u3001\u5bb6\u5177\u3001\u30d5\u30eb\u30fc\u30c4\u3001\u697d\u5668\u3001\u5de5\u5177\u3001\u8272\u3001\u88c5\u7f6e\u30fb\u6a5f\u5668\u3001\u6b66\u5668\u3001\u5efa\u7269\u3001\u69cb\u9020\u7269\u30fb\u4eba\u5de5\u7269\u3001\u8863\u985e\u7b49\u3005\u304c\u3042\u308a\u307e\u3059\u3002\uff08\u53c2\u8003\uff1ahttps://cloud.ibm.com/apidocs/visual-recognition?code=python#classify-images \uff09\n- \u5165\u529b\uff1a\u8a8d\u8b58\u3055\u305b\u305f\u3044\u753b\u50cf\u30d5\u30a1\u30a4\u30eb\uff08jpeg\u304bpng\uff09\u307e\u305f\u306fURL\n- \u51fa\u529b\n - \u753b\u50cf\u306b\u5199\u3063\u3066\u3044\u308b\u3082\u306e\u3001\u5206\u985e\u7d50\u679c\n - \u30b9\u30b3\u30a2\uff08\u753b\u50cf\u306e\u78ba\u4fe1\u5ea6\uff09\n - \u3082\u306e\u30fb\u5206\u985e\u7d50\u679c\u306e\u968e\u5c64\u69cb\u9020 (\u52d5\u7269-\u5bb6\u755c-\u72ac-\u5c0f\u578b\u72ac\uff65\uff65\uff65\u3068\u3044\u3063\u305f\u30bf\u30b0\u306e\u968e\u5c64)", 
            "cell_type": "markdown", 
            "metadata": {}
        }, 
        {
            "source": "\u307e\u305a\u306f\u30b5\u30f3\u30d7\u30eb\u753b\u50cf\u306eURL\u304b\u3089\u753b\u50cf\u8a8d\u8b58\u3092\u3084\u3063\u3066\u3044\u304d\u307e\u3059\uff08[\u3053\u306e\u30ea\u30f3\u30af\u306e\u753b\u50cf](https://watson-developer-cloud.github.io/doc-tutorial-downloads/visual-recognition/fruitbowl.jpg)\u3092\u4f7f\u3044\u307e\u3059\uff09\u3002\u4e0b\u8a18\u306e\u30bb\u30eb\u3092\u5b9f\u884c\u3057\u307e\u3057\u3087\u3046\u3002", 
            "cell_type": "markdown", 
            "metadata": {}
        }, 
        {
            "execution_count": null, 
            "cell_type": "code", 
            "metadata": {}, 
            "outputs": [], 
            "source": "image_url = 'https://watson-developer-cloud.github.io/doc-tutorial-downloads/visual-recognition/fruitbowl.jpg'\n\nimport json\n\nclasses = visual_recognition.classify(\n        url=image_url,\n        threshold='0.6',\n        accept_language='ja').get_result()\nprint(json.dumps(classes, indent=2,  ensure_ascii=False))"
        }, 
        {
            "source": "\u3069\u3046\u3067\u3059\u304b\uff1fJSON\u306e\u5f62\u5f0f\u3067\u7d50\u679c\u304c\u51fa\u529b\u3055\u308c\u305f\u3068\u601d\u3044\u307e\u3059\u3002\u3055\u3089\u306b\u305d\u306e\u7d50\u679c\u304c\u65e5\u672c\u8a9e\u3067\u51fa\u529b\u3055\u308c\u3066\u3044\u308b\u3053\u3068\u304c\u5206\u304b\u308b\u304b\u3068\u601d\u3044\u307e\u3059\u3002\u3053\u308c\u306f```accept_language```\u3067\u8a00\u8a9e\u306eID\u3092\u6307\u5b9a\u3059\u308b\u3053\u3068\u3067\u51fa\u529b\u3055\u308c\u307e\u3059\u3002\u6307\u5b9a\u3067\u304d\u308b\u8a00\u8a9e\u306f11\u8a00\u8a9e\u3067\u30c7\u30d5\u30a9\u30eb\u30c8\u306f```en```\u3067\u3059\u3002", 
            "cell_type": "markdown", 
            "metadata": {}
        }, 
        {
            "source": "## 2. \u753b\u50cf\u8a8d\u8b58\uff08\u4e00\u822c\u30e2\u30c7\u30eb\uff09-\u81ea\u524d\u3067\u7528\u610f\u3059\u308b-\n\u3067\u306f\u3001\u4eca\u5ea6\u306f\u81ea\u524d\u3067\u7528\u610f\u3057\u305f\u753b\u50cf\u3092\u8aad\u307f\u8fbc\u307e\u305b\u308b\u4f5c\u696d\u3092\u884c\u3044\u307e\u3059\u3002\u7686\u3055\u3093\u306ePC\u4e0a\u306b\u4fdd\u5b58\u3055\u308c\u3066\u3044\u308b\u753b\u50cf\u3092\u306a\u3093\u3067\u3082\u3044\u3044\u306e\u3067\u7528\u610f\u3057\u3066\u304f\u3060\u3055\u3044\u3002\uff08\u306a\u3044\u5834\u5408\u306f[\u3053\u3061\u3089\u306e\u753b\u50cf](https://github.com/Miura55/20190625_SkillShare/blob/master/img/ramen.jpeg)\u3092\u3054\u81ea\u5206\u306ePC\u306b\u30a4\u30f3\u30b9\u30c8\u30fc\u30eb\u3057\u3066\u304f\u3060\u3055\u3044\u3002\uff09\n\u7528\u610f\u3057\u305f\u3089\u3001Watson Studio\u3067\u753b\u50cf\u3092\u53d6\u308a\u8fbc\u3080\u4f5c\u696d\u3092\u884c\u3046\u5fc5\u8981\u304c\u3042\u308a\u307e\u3059\u3002\u4ee5\u4e0b\u306e\u4f5c\u696d\u3092\u884c\u3044\u307e\u3059\u3002", 
            "cell_type": "markdown", 
            "metadata": {}
        }, 
        {
            "source": "1. \u53f3\u4e0a\u306e\u30a2\u30a4\u30b3\u30f3\u306e\u4e2d\u304b\u3089\u6b63\u65b9\u5f62\u304c3\u3064\u3068\u6570\u5b57\u306e\uff11\u3067\u69cb\u6210\u3055\u308c\u305f\u30a2\u30a4\u30b3\u30f3\u3092\u63a2\u3057\u3001\u30af\u30ea\u30c3\u30af\u3057\u307e\u3059\u3002\n2. ```files```\u30bf\u30d6\u3092\u9078\u629e\u3055\u308c\u3066\u3044\u308b\u3053\u3068\u3092\u78ba\u8a8d\u3057\u3001\u753b\u50cf\u3092```Drop your file here or browse your files to add a new file```\u306b\u30c9\u30e9\u30c3\u30b0\uff06\u30c9\u30ed\u30c3\u30d7\u3059\u308b\u304b\u3001```browse```\u3092\u30af\u30ea\u30c3\u30af\u3057\u3066\u753b\u50cf\u30d5\u30a1\u30a4\u30eb\u3092\u9078\u629e\u3057\u307e\u3059\u3002\n3. \u4e0b\u8a18\u306e\u30bb\u30eb\u3092\u30af\u30ea\u30c3\u30af\u3057\u3001```Insert to code```\u3092\u9078\u629e\u3057\u3001```Insert StreamingBody object```\u3092\u30af\u30ea\u30c3\u30af\u3057\u3066\u30d5\u30a1\u30a4\u30eb\u3092\u8aad\u307f\u8fbc\u3080\u305f\u3081\u306e\u30b3\u30fc\u30c9\u3092\u751f\u6210\u3057\u307e\u3059\u3002\n4. \u3053\u306e\u3068\u304d\u3001\u4e0b\u306e\u65b9\u306e\u6574\u6570\u304c```streaming_body_1```\u3067\u306f\u306a\u304f\u3001```streaming_body_2```\u306b\u306a\u3063\u3066\u3044\u308b\u5834\u5408\u306f\u3001```streaming_body_1```\u306b\u4fee\u6b63\u3057\u3066\u304f\u3060\u3055\u3044\u3002", 
            "cell_type": "markdown", 
            "metadata": {}
        }, 
        {
            "execution_count": null, 
            "cell_type": "code", 
            "metadata": {}, 
            "outputs": [], 
            "source": "# \u3053\u3053\u3092\u30af\u30ea\u30c3\u30af"
        }, 
        {
            "source": "\u30b3\u30fc\u30c9\u304c\u751f\u6210\u3067\u304d\u305f\u3089\u3001\u4eca\u5ea6\u306f\u753b\u50cf\u3092\u30b9\u30c8\u30ec\u30fc\u30b8\u306b\u4fdd\u5b58\u3059\u308b\u3053\u3068\u306a\u304f\u30d7\u30ed\u30b0\u30e9\u30e0\u4e0a\u3060\u3051\u3067\u51e6\u7406\u3067\u304d\u308b\u3088\u3046\u306b\u30d5\u30a1\u30a4\u30eb\u306e\u30b3\u30d4\u30fc\u3092\u884c\u3044\u307e\u3059\u3002\u4e0b\u306e\u30bb\u30eb\u3092\u5b9f\u884c\u3057\u3066\u304f\u3060\u3055\u3044\u3002", 
            "cell_type": "markdown", 
            "metadata": {}
        }, 
        {
            "execution_count": null, 
            "cell_type": "code", 
            "metadata": {}, 
            "outputs": [], 
            "source": "from io import BytesIO\n\nfilename = \"ramen.jpeg\"\nfile = BytesIO(streaming_body_1.read())\nwith open(filename, \"wb\") as out:\n    out.write(file.read())"
        }, 
        {
            "source": "\u753b\u50cf\u306e\u30b3\u30d4\u30fc\u304c\u51fa\u6765\u3066\u3044\u308b\u304b\u78ba\u8a8d\u3059\u308b\u305f\u3081\u306b\u5b9f\u969b\u306b\u753b\u50cf\u3092\u8868\u793a\u3055\u305b\u3066\u307f\u307e\u3059\u3002\u4e0b\u306e\u30bb\u30eb\u3092\u5b9f\u884c\u3057\u3066\u304f\u3060\u3055\u3044\u3002", 
            "cell_type": "markdown", 
            "metadata": {}
        }, 
        {
            "execution_count": null, 
            "cell_type": "code", 
            "metadata": {}, 
            "outputs": [], 
            "source": "from PIL import Image\n\n# \u753b\u50cf\u304c\u8aad\u307f\u8fbc\u3081\u305f\u304b\u3092\u78ba\u8a8d\nwith open(filename, 'rb') as images_file:\n    image = Image.open(filename)\n    display(image)"
        }, 
        {
            "source": "\u3044\u3088\u3044\u3088\u8aad\u307f\u8fbc\u3093\u3060\u753b\u50cf\u3092\u8a8d\u8b58\u3057\u3066\u3044\u304d\u307e\u3059\u3002\u4e0b\u8a18\u306e\u30bb\u30eb\u3092\u5b9f\u884c\u3057\u3066\u304f\u3060\u3055\u3044\u3002", 
            "cell_type": "markdown", 
            "metadata": {}
        }, 
        {
            "execution_count": null, 
            "cell_type": "code", 
            "metadata": {}, 
            "outputs": [], 
            "source": "with open(filename, 'rb') as images_file:\n    classes = visual_recognition.classify(\n        images_file,\n        threshold='0.6',\n       accept_language='ja').get_result()\n    print(json.dumps(classes, indent=2, ensure_ascii=False))"
        }, 
        {
            "source": "## 3. \u3082\u3046\u5c11\u3057\u898b\u3084\u3059\u304f\u3057\u3066\u307f\u308b\n\u3053\u3053\u307e\u3067\u3067\u753b\u50cf\u3092\u8aad\u307f\u8fbc\u3093\u3067\u8a8d\u8b58\u3055\u305b\u308b\u7d50\u679c\u3092\u898b\u3066\u304d\u307e\u3057\u305f\u3002\u3057\u304b\u3057\u3001\u51fa\u529b\u3055\u308c\u308b\u3082\u306e\u304cJSON\u3067\u3042\u308b\u305f\u3081\u7d50\u679c\u3092\u898b\u308b\u306b\u306f\u5c11\u3057\u898b\u3065\u3089\u3044\u3067\u3059\u3002\u305d\u3053\u3067pandas\u3092\u4f7f\u3063\u3066\u8868\u3092\u51fa\u529b\u3059\u308b\u3053\u3068\u3068\u3001matplotlib\u3092\u4f7f\u7528\u3057\u3066\u30b0\u30e9\u30d5\u3092\u8868\u793a\u3057\u3066\u3044\u304f\u3053\u3068\u3092\u3084\u3063\u3066\u3044\u304d\u307e\u3059\u3002pandas\u3068\u306f\u3001\u8868\u5f62\u5f0f\u306e\u30c7\u30fc\u30bf\u306e\u53d6\u6271\u3092\u884c\u3046\u305f\u3081\u306epython\u30e9\u30a4\u30d6\u30e9\u30ea\u3067\u3001matplotlib\u3068\u306f\u3001\u30b0\u30e9\u30d5\u3092\u4f5c\u6210\u3059\u308b\u305f\u3081\u306b\u4f7f\u7528\u3055\u308c\u308bpyhon\u30e9\u30a4\u30d6\u30e9\u30ea\u3067\u3059\u3002\u5148\u7a0b\u51fa\u529b\u3057\u305fjson\u30d5\u30a1\u30a4\u30eb\u306e\u3046\u3061\u3001```class```\u8981\u7d20\u3092x\u8ef8\u306e\u30e9\u30d9\u30eb\u306b\u3064\u3051\u305f\u3044\u3067\u3059\u304c\u3001\u65e5\u672c\u8a9e\u3092\u5165\u308c\u308b\u306b\u306f\u5225\u9014\u30d5\u30a9\u30f3\u30c8\u3092\u30a4\u30f3\u30b9\u30c8\u30fc\u30eb\u3059\u308b\u5fc5\u8981\u304c\u3042\u308a\u307e\u3059\u3002\u307e\u305a\u306f\u4e0b\u8a18\u306e\u30bb\u30eb\u3092\u5b9f\u884c\u3057\u3001\u65e5\u672c\u8a9e\u306e\u30d5\u30a9\u30f3\u30c8\u30d5\u30a1\u30a4\u30eb\u3092\u30a4\u30f3\u30b9\u30c8\u30fc\u30eb\u3057\u307e\u3059\u3002", 
            "cell_type": "markdown", 
            "metadata": {}
        }, 
        {
            "execution_count": null, 
            "cell_type": "code", 
            "metadata": {}, 
            "outputs": [], 
            "source": "import os\n\n#\u65e5\u672c\u8a9e\u30d5\u30a9\u30f3\u30c8\u306e\u5c0e\u5165  \njp_font_path ='ipaexg00301/ipaexg.ttf'\n\nif not os.path.exists(jp_font_path):\n    !wget https://oscdl.ipa.go.jp/IPAexfont/ipaexg00301.zip\n    !unzip ipaexg00301.zip\nelse:\n    print('IPA font ha\uff53 been already installed')\n"
        }, 
        {
            "source": "\u30a4\u30f3\u30b9\u30c8\u30fc\u30eb\u3092\u7d42\u3048\u305f\u3089\u3001\u4e0b\u8a18\u306e\u30bb\u30eb\u3092\u5b9f\u884c\u3057\u8a8d\u8b58\u7d50\u679c\u3092\u30b0\u30e9\u30d5\u3067\u8868\u793a\u3057\u307e\u3059\u3002(\u3082\u3057\u4f55\u3082\u30b0\u30e9\u30d5\u304c\u8868\u793a\u3055\u308c\u306a\u3044\u5834\u5408\u306f\u3082\u3046\u4e00\u56de\u30bb\u30eb\u3092\u5b9f\u884c\u3057\u3066\u307f\u308b\u3068\u30b0\u30e9\u30d5\u304c\u8868\u793a\u3055\u308c\u308b\u3068\u601d\u3044\u307e\u3059\u3002)", 
            "cell_type": "markdown", 
            "metadata": {}
        }, 
        {
            "execution_count": null, 
            "cell_type": "code", 
            "metadata": {}, 
            "outputs": [], 
            "source": "import numpy as np\nimport matplotlib.pyplot as plt\nfrom matplotlib.font_manager import FontProperties\n\nfp = FontProperties(fname=jp_font_path, size=10)\n\n# \u5024\u3092\u8a2d\u5b9a\nvalues = [value for value in classes[\"images\"][0][\"classifiers\"][0][\"classes\"]]\nlabel = [label[\"class\"] for label in values]\nplt.xticks(range(len(values)), label, fontproperties=fp, rotation=45)\n\n# \u30b0\u30e9\u30d5\u3092\u8868\u793a\nplt.bar(range(len(values)), [score[\"score\"] for score in values], color=\"blue\")\nplt.show()\n\n# \u7d50\u679c\u4e00\u89a7\u3092\u8868\u793a\ndf_face_detect_res = pd.DataFrame({\"score\":[score[\"score\"] for score in values]},\n                                 index=label)\ndisplay(df_face_detect_res)"
        }, 
        {
            "source": "pandas\u3084matplotlib\u3092\u4f7f\u3046\u3068\u3053\u306e\u3088\u3046\u306b\u30c7\u30fc\u30bf\u306e\u53ef\u8996\u5316\u3092\u5bb9\u6613\u306b\u3067\u304d\u307e\u3059\u3002\u305d\u3057\u3066\u3001jupyter-notebook\u4e0a\u3067\u4f7f\u7528\u3059\u308b\u3053\u3068\u3067\u3001\u5b9f\u884c\u3057\u305f\u30bb\u30eb\u306e\u4e0b\u306b\u305d\u306e\u307e\u307e\u8868\u793a\u3057\u3066\u304f\u308c\u307e\u3059\u3002\u30c7\u30fc\u30bf\u30b5\u30a4\u30a8\u30f3\u30b9\u3067jupyter-notebook\u3068\u306e\u76f8\u6027\u304c\u3044\u3044\u7406\u7531\u306f\u3053\u306e\u3088\u3046\u306b\u30c7\u30fc\u30bf\u3092\u53ef\u8996\u5316\u3057\u3084\u3059\u304f\u3059\u308b\u305f\u3081\u306e\u74b0\u5883\u304c\u6574\u3063\u3066\u3044\u308b\u304b\u3089\u3068\u3044\u3046\u3053\u3068\u3082\u3042\u308a\u307e\u3059\u3002", 
            "cell_type": "markdown", 
            "metadata": {}
        }, 
        {
            "source": "## 3. \u9854\u8a8d\u8b58\u306b\u30c1\u30e3\u30ec\u30f3\u30b8\n\u3053\u3053\u307e\u3067\u306f\u7269\u4f53\u8a8d\u8b58\u306e\u8a71\u3092\u53d6\u308a\u4e0a\u3052\u3066\u304d\u307e\u3057\u305f\u304c\u3001\u3053\u3053\u304b\u3089\u306f\u4eba\u306e\u9854\u3092\u8a8d\u8b58\u3059\u308b\u3053\u3068\u3092\u3084\u3063\u3066\u3044\u304d\u307e\u3059\u3002Visual Recognition\u306b\u306f\u9854\u8a8d\u8b58\u5c02\u7528\u306e\u30e2\u30c7\u30eb\u3082\u30c7\u30d5\u30a9\u30eb\u30c8\u306b\u5b58\u5728\u3057\u3001\u9854\u306e\u4f4d\u7f6e\u3001\u5e74\u9f62\u3001\u6027\u5225\u306a\u3069\u3092\u5224\u5b9a\u3057\u3066\u304f\u308c\u307e\u3059\u3002\u305d\u308c\u3067\u306f\u3001\u4e0b\u8a18\u306e\u30bb\u30eb\u3092\u5b9f\u884c\u3057\u3001\u753b\u50cf\u306e\u30a4\u30f3\u30b9\u30c8\u30fc\u30eb\u3068\u4f7f\u3046\u753b\u50cf\u3092\u898b\u3066\u3044\u304d\u307e\u3059\u3002\u4eca\u56de\u306e\u753b\u50cf\u306f\u30cd\u30c3\u30c8\u3067\u898b\u3064\u3051\u305f\u30d5\u30ea\u30fc\u7d20\u6750\u3067\u3059\u3002\uff08\u30ea\u30f3\u30af\u304c\u7121\u52b9\u306b\u306a\u3063\u3066\u4f7f\u3048\u306a\u304f\u306a\u308b\u53ef\u80fd\u6027\u304c\u3042\u308a\u307e\u3059\uff09", 
            "cell_type": "markdown", 
            "metadata": {}
        }, 
        {
            "execution_count": null, 
            "cell_type": "code", 
            "metadata": {}, 
            "outputs": [], 
            "source": "!wget https://skybiometry.com/wp-content/uploads/2015/09/work-2-1-e1451907791984.jpg -O people.jpg\n\nwith open(\"./people.jpg\", \"rb\"):\n    image = Image.open(\"./people.jpg\")\n    display(image)      "
        }, 
        {
            "source": "\u305d\u308c\u3067\u306f\u3001\u30a4\u30f3\u30b9\u30c8\u30fc\u30eb\u3057\u305f\u753b\u50cf\u3092\u5b9f\u969b\u306b\u8a8d\u8b58\u3055\u305b\u3066\u307f\u307e\u3057\u3087\u3046\u3002\u4e0b\u8a18\u306e\u30bb\u30eb\u3092\u5b9f\u884c\u3057\u307e\u3059\u3002", 
            "cell_type": "markdown", 
            "metadata": {}
        }, 
        {
            "execution_count": null, 
            "cell_type": "code", 
            "metadata": {}, 
            "outputs": [], 
            "source": "with open('./people.jpg', 'rb') as images_file:\n    faces = visual_recognition.detect_faces(images_file).get_result()\nprint(json.dumps(faces, indent=2))"
        }, 
        {
            "source": "\u306a\u3093\u3068\u306a\u304f\u8a8d\u8b58\u3055\u308c\u3066\u3044\u308b\u3053\u3068\u304c\u5206\u304b\u308a\u307e\u3059\u304c\u3053\u308c\u3067\u306f\u3001\u3069\u306e\u9854\u304c\u3069\u306e\u3088\u3046\u306b\u8a8d\u8b58\u3055\u308c\u3066\u3044\u308b\u306e\u304b\u308f\u304b\u308a\u307e\u305b\u3093\u3002\u305d\u3053\u3067\u753b\u50cf\u306b\u5370\u3092\u3064\u3051\u3066\u9854\u8a8d\u8b58\u7d50\u679c\u304c\u308f\u304b\u308b\u3088\u3046\u306b\u4e0b\u8a18\u306e\u95a2\u6570\u3092\u5b9a\u7fa9\u3057\u307e\u3059\u3002", 
            "cell_type": "markdown", 
            "metadata": {}
        }, 
        {
            "execution_count": null, 
            "cell_type": "code", 
            "metadata": {}, 
            "outputs": [], 
            "source": "from PIL import Image, ImageDraw,ImageFont\nimport os\n\ndef draw_face_area(image_file, face_detect_res):\n    \n    if  len(face_detect_res) < 1:\n        print('No face detection')\n        return        \n    \n    image = Image.open(image_file)\n    draw = ImageDraw.Draw(image, \"RGBA\")\n    #\u65e5\u672c\u8a9e\u30d5\u30a9\u30f3\u30c8\u306e\u5c0e\u5165  \n    jp_font_path ='ipaexg00301/ipaexg.ttf'\n\n    if not os.path.exists(jp_font_path):\n        !wget https://oscdl.ipa.go.jp/IPAexfont/ipaexg00301.zip\n        !unzip ipaexg00301.zip\n    else:\n        print('IPA font ha\uff53 been already installed')\n    \n    col_name =  [\"gender\", \"gender_score\", \"age_max\", \"age_min\", \"age_score\"]\n    df_face_detect_res = pd.DataFrame(columns=[])\n  \n    for i, faceinfo in enumerate(face_detect_res):\n        x0 = faceinfo['face_location']['left']\n        x1= x0 +  faceinfo['face_location']['width']\n        y0 = faceinfo['face_location']['top']\n        y1 = y0 + faceinfo['face_location']['height']\n        \n        \n        df_face_detect_res.loc[i, \"gender\"] = faceinfo['gender']['gender']\n        df_face_detect_res.loc[i, \"gender_score\"] = faceinfo['gender']['score']\n        df_face_detect_res.loc[i, \"age_max\"] = faceinfo['age']['max']\n        df_face_detect_res.loc[i, \"age_min\"] = faceinfo['age']['min']\n        df_face_detect_res.loc[i, \"age_score\"] = faceinfo['age']['score']\n        \n        font_size = 20\n        font = ImageFont.truetype(jp_font_path, font_size)\n        text_size = draw.textsize('88', font=font)\n        if not ( x1-x0 < text_size[0] or y1-y0 < text_size[1]):\n            while x1-x0 > text_size[0] or y1-y0 > text_size[1]:\n                font = ImageFont.truetype(jp_font_path, font_size)\n                text_size = draw.textsize('88', font=font)\n                font_size += 1\n            \n        font = ImageFont.truetype(jp_font_path, font_size)\n        draw.rectangle(xy=(x0,y0, x1, y1), outline=(0, 249, 0))\n        draw.text(xy=(x0+5,y0+5), text=str(i), fill=(0, 249, 0), font=font)\n        \n    display(image)\n    pd.options.display.max_rows = None\n    display(df_face_detect_res)"
        }, 
        {
            "source": "\u95a2\u6570\u3092\u5b9a\u7fa9\u3057\u3066\u4ee5\u4e0b\u306e\u30bb\u30eb\u3092\u5b9f\u884c\u3057\u307e\u3059\u3002\u753b\u50cf\u4e0a\u3067\u8a8d\u8b58\u3055\u308c\u305f\u9854\u306b\u756a\u53f7\u304c\u632f\u3089\u308c\u3001\u66f4\u306b\u6027\u5225\u3001\u5927\u4f53\u306e\u5e74\u9f62\u3001\u305d\u308c\u305e\u308c\u306e\u30b9\u30b3\u30a2\u3092\u8868\u3067\u51fa\u529b\u3055\u308c\u307e\u3059\u3002", 
            "cell_type": "markdown", 
            "metadata": {}
        }, 
        {
            "execution_count": null, 
            "cell_type": "code", 
            "metadata": {}, 
            "outputs": [], 
            "source": "draw_face_area('people.jpg', faces['images'][0]['faces'])"
        }, 
        {
            "source": "# \u8ab2\u984c\n\u305d\u308c\u3067\u306f\u3001\u6700\u5f8c\u306b\u3054\u81ea\u5206\u3067\u753b\u50cf\u3092\u7528\u610f\u3057\u3066\u9854\u8a8d\u8b58\u3092\u884c\u3063\u3066\u304f\u3060\u3055\u3044\u3002\u30d1\u30bd\u30b3\u30f3\u306b\u4fdd\u7ba1\u3055\u308c\u3066\u3044\u308b\u3082\u306e\u3067\u3082\u30aa\u30f3\u30e9\u30a4\u30f3\u306b\u3042\u308b\u3082\u306e\u3067\u3082\u5927\u4e08\u592b\u3067\u3059\u304c\u3001\u305d\u308c\u305e\u308c\u3067\u5fc5\u8981\u306a\u51e6\u7406\u304c\u3042\u308a\u307e\u3059\u306e\u3067\u3001\u5fd8\u308c\u305a\u306b\u884c\u3063\u3066\u304f\u3060\u3055\u3044\u3002\u30d7\u30ed\u30b0\u30e9\u30e0\u306f\u3053\u306e\u4e0b\u306b\u30bb\u30eb\u3092\u8ffd\u52a0\u3057\u3066\u3044\u304d\u307e\u3057\u3087\u3046", 
            "cell_type": "markdown", 
            "metadata": {}
        }, 
        {
            "execution_count": null, 
            "cell_type": "code", 
            "metadata": {}, 
            "outputs": [], 
            "source": ""
        }, 
        {
            "source": "\u6700\u5f8c\u306b\u53f3\u4e0a\u306b\u3042\u308b\u30d5\u30ed\u30c3\u30d4\u30fc\u30c7\u30a3\u30b9\u30af\u30de\u30fc\u30af\u3092\u30af\u30ea\u30c3\u30af\u3057\u3066\u30d7\u30ed\u30b0\u30e9\u30e0\u3092\u4fdd\u5b58\u3057\u305f\u3089\u3001\u3053\u306e\u30d1\u30fc\u30c8\u306f\u7d42\u4e86\u3067\u3059\u3002", 
            "cell_type": "markdown", 
            "metadata": {}
        }
    ], 
    "metadata": {
        "kernelspec": {
            "display_name": "Python 3.5", 
            "name": "python3", 
            "language": "python"
        }, 
        "language_info": {
            "mimetype": "text/x-python", 
            "nbconvert_exporter": "python", 
            "version": "3.5.5", 
            "name": "python", 
            "file_extension": ".py", 
            "pygments_lexer": "ipython3", 
            "codemirror_mode": {
                "version": 3, 
                "name": "ipython"
            }
        }
    }, 
    "nbformat": 4
}